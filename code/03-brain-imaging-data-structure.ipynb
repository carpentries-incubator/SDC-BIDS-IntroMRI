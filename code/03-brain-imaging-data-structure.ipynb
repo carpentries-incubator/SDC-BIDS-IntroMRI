{
 "cells": [
  {
   "cell_type": "markdown",
   "metadata": {},
   "source": [
    "# Brain Imaging Data Structure (BIDS)\n",
    "\n",
    "---\n",
    "\n",
    "## When NIfTI isn't enough\n",
    "\n",
    "So far, we've only worked with a single T1w scan from a single subject. However, neuroimaging research requires working with <b>different scan modalities</b> across <b>several subjects</b> (sometimes even <b>multiple timepoints</b>)!"
   ]
  },
  {
   "cell_type": "markdown",
   "metadata": {
    "solution2": "shown",
    "solution2_first": true
   },
   "source": [
    "<b>EXERCISE:</b> Let's take a look at the rest of our NIfTI dataset from the last lesson. Imagine you are a collaborator who's currently gotten your hands on this dataset for an analysis. What are some immediate questions you might have that aren't apparent at a first glance?\n",
    "\n",
    "```\n",
    "nii\n",
    "├── dcm_anat_ses-01_T1w_20190219111436_5.json\n",
    "├── dcm_anat_ses-01_T1w_20190219111436_5.nii.gz\n",
    "├── dcm_func_ses-01_task-faces_run-01_20190219111436_13.json\n",
    "├── dcm_func_ses-01_task-faces_run-01_20190219111436_13.nii.gz\n",
    "├── dcm_func_ses-01_task-sound_run-01_20190219111436_6.json\n",
    "├── dcm_func_ses-01_task-sound_run-01_20190219111436_6.nii.gz\n",
    "├── dcm_func_ses-01_task-sound_run-01_20190219111436_7.json\n",
    "├── dcm_func_ses-01_task-sound_run-01_20190219111436_7.nii.gz\n",
    "├── dcm_func_ses-01_task-sound_run-01_20190219111436_8.json\n",
    "├── dcm_func_ses-01_task-sound_run-01_20190219111436_8.nii.gz\n",
    "├── dcm_func_ses-01_task-story_run-01_20190219111436_9.json\n",
    "├── dcm_func_ses-01_task-story_run-01_20190219111436_9.nii.gz\n",
    "├── dcm_func_ses-01_task-story_run-02_20190219111436_10.json\n",
    "├── dcm_func_ses-01_task-story_run-02_20190219111436_10.nii.gz\n",
    "├── dcm_func_ses-01_task-story_run-03_20190219111436_11.json\n",
    "├── dcm_func_ses-01_task-story_run-03_20190219111436_11.nii.gz\n",
    "├── dcm_func_ses-01_task-story_run-04_20190219111436_12.json\n",
    "└── dcm_func_ses-01_task-story_run-04_20190219111436_12.nii.gz\n",
    "```"
   ]
  },
  {
   "cell_type": "markdown",
   "metadata": {
    "solution2": "shown"
   },
   "source": [
    "- How many subjects were scanned?\n",
    "- What are the demographics of the participants?\n",
    "- What is the name of the dataset?\n",
    "- Who are the authors of the dataset?\n",
    "- Is there a citation I should use to give credit to the authors?\n",
    "- Is there a more elaborate description of the fMRI tasks?\n",
    "- Do any of the fMRI tasks have an event-related design?\n",
    "- What do the fMRI task stimuli look like?"
   ]
  },
  {
   "cell_type": "markdown",
   "metadata": {},
   "source": [
    "## Introducing BIDS\n",
    "\n",
    "The [Brain Imaging Data Structure (BIDS)](https://www.nature.com/articles/sdata201644) is a simple and intuitive way to organize and describe your neuroimaging and behavioural data. Neuroimaging experiments result in complicated data that can be arranged in several different ways. BIDS tackles this problem by suggesting a new standard (based on consensus from multiple researchers across the world) for the arrangement of neuroimaging datasets. Using the same organizational standard for all of your studies will also allow you to easily reuse your scripts and share data and code with other researchers.\n",
    "\n",
    "For this lesson, we'll be focusing on organizing MRI data. However, BIDS has since expanded with specifications for [MEG](https://www.nature.com/articles/sdata2018110), [EEG](https://www.nature.com/articles/s41597-019-0104-8), [iEEG](https://www.nature.com/articles/s41597-019-0105-7), and [PET](https://journals.sagepub.com/doi/10.1177/0271678X20905433).\n",
    "\n",
    "For a more comprehensive overview, check out the [BIDS Starter Kit](https://github.com/bids-standard/bids-starter-kit/wiki)."
   ]
  },
  {
   "cell_type": "markdown",
   "metadata": {},
   "source": [
    "<img src=\"../fig/bids_structure.jpg\" alt=\"Drawing\" align=\"middle\" width=\"600px\"/>"
   ]
  },
  {
   "cell_type": "markdown",
   "metadata": {},
   "source": [
    "## Structure\n",
    "\n",
    "The current spec https://bids-specification.readthedocs.io/en/stable/\n"
   ]
  },
  {
   "cell_type": "markdown",
   "metadata": {},
   "source": [
    "```\n",
    "dataset/\n",
    "  rawdata/\n",
    "    dataset_description.json\n",
    "    participants.tsv\n",
    "    CHANGES\n",
    "    README\n",
    "    task-rest.json\n",
    "    sub-01/\n",
    "      ses-01/\n",
    "        anat/\n",
    "        func/\n",
    "    sub-02/\n",
    "    ...\n",
    "  sourcedata/\n",
    "    ...\n",
    "  derivatives/\n",
    "    pipeline_1/\n",
    "    pipeline_2/\n",
    "    ...\n",
    "  code/\n",
    "  stimuli/\n",
    "```"
   ]
  },
  {
   "cell_type": "markdown",
   "metadata": {},
   "source": [
    "**EXERCISE**: The Case of Rea Seach\n",
    "\n",
    "> Hey Rea,  \n",
    "> Great to see you at the conference last month. Here's the data we talked about for that\n",
    "new project. We tested 1 male participant with structural and a few of our favorite tasks.  \n",
    "> The data is organized according to modality.\n",
    "> Looking forward to seeing how this project works out!  \n",
    "> Cole Labo\n",
    "\n",
    "Lets try converting the NIfTI data to BIDS manually."
   ]
  },
  {
   "cell_type": "code",
   "execution_count": null,
   "metadata": {},
   "outputs": [],
   "source": [
    "%%bash\n",
    "\n",
    "mkdir -p ../data/dicom_examples/0219191_mystudy-0219-1114/bids/sub-01/{anat,func}"
   ]
  },
  {
   "cell_type": "code",
   "execution_count": null,
   "metadata": {},
   "outputs": [],
   "source": [
    "import json\n",
    "from collections import OrderedDict\n",
    "\n",
    "data= OrderedDict()\n",
    "data['Name'] = 'BIDS Test'\n",
    "data['BIDSVersion'] = '1.6.0'\n",
    "data['License'] = ''\n",
    "data['Authors'] = ['','','']\n",
    "data['Acknowledgements'] = ''\n",
    "data['HowToAcknowledge'] = ''\n",
    "data['Funding'] = ['','','']\n",
    "data['ReferencesAndLinks'] = ['','','']\n",
    "data['DatasetDOI'] = ''\n",
    "dataset_json_name='../data/dicom_examples/0219191_mystudy-0219-1114/bids/dataset_description.json'\n",
    "\n",
    "with open(dataset_json_name, 'w') as f:\n",
    "    json.dump(data, f, sort_keys=False, indent=2)"
   ]
  },
  {
   "cell_type": "markdown",
   "metadata": {},
   "source": [
    "## Conversion Methods\n",
    "\n",
    "- [heudiconv](https://github.com/nipy/heudiconv)\n",
    "- [Dcm2Bids](https://github.com/cbedetti/Dcm2Bids)\n",
    "- [bidskit](https://github.com/jmtyszka/bidskit)\n",
    "- [dac2bids](https://github.com/dangom/dac2bids)\n",
    "- [BIDScoin](https://github.com/Donders-Institute/bidscoin)\n",
    "- and more!"
   ]
  },
  {
   "cell_type": "code",
   "execution_count": null,
   "metadata": {},
   "outputs": [],
   "source": [
    "%%bash\n",
    "\n",
    "dcm2bids_scaffold -o ../data/dicom_examples/0219191_mystudy-0219-1114/dcm2bids/"
   ]
  },
  {
   "cell_type": "code",
   "execution_count": null,
   "metadata": {},
   "outputs": [],
   "source": [
    "%%bash\n",
    "\n",
    "dcm2bids_helper \\\n",
    "  -d ../data/dicom_examples/0219191_mystudy-0219-1114/dcm \\\n",
    "  -o ../data/dicom_examples/0219191_mystudy-0219-1114/dcm2bids"
   ]
  },
  {
   "cell_type": "code",
   "execution_count": null,
   "metadata": {},
   "outputs": [],
   "source": [
    "%%bash\n",
    "\n",
    "mkdir -p ../data/dicom_examples/0219191_mystudy-0219-1114/dcm2bids/rawdata\n",
    "dcm2bids \\\n",
    "  -d ../data/dicom_examples/0219191_mystudy-0219-1114/dcm \\\n",
    "  -p 01 -s 01 \\\n",
    "  -c ../data/dicom_examples/0219191_mystudy-0219-1114/dcm2bids/code/config.json \\\n",
    "  -o ../data/dicom_examples/0219191_mystudy-0219-1114/dcm2bids/rawdata"
   ]
  },
  {
   "cell_type": "markdown",
   "metadata": {},
   "source": [
    "## BIDS Validator\n",
    "\n",
    "Can be run [online](https://bids-standard.github.io/bids-validator)\n",
    "\n",
    "> Selecting a dataset only performs validation. Files are never uploaded.\n",
    "\n",
    "Select the data directory and wait for it to finish validation.\n",
    "\n",
    "View errors and warnings."
   ]
  },
  {
   "cell_type": "markdown",
   "metadata": {},
   "source": [
    "---\n",
    "\n",
    "#### References\n",
    "1. Gorgolewski, K. J., Auer, T., Calhoun, V. D., Craddock, R. C., Das, S., Duff, E. P., … Poldrack, R. A. (2016). The brain imaging data structure, a format for organizing and describing outputs of neuroimaging experiments. Scientific Data, 3(1). https://doi.org/10.1038/sdata.2016.44"
   ]
  }
 ],
 "metadata": {
  "file_extension": ".py",
  "kernelspec": {
   "display_name": "Python 3",
   "language": "python",
   "name": "python3"
  },
  "language_info": {
   "codemirror_mode": {
    "name": "ipython",
    "version": 3
   },
   "file_extension": ".py",
   "mimetype": "text/x-python",
   "name": "python",
   "nbconvert_exporter": "python",
   "pygments_lexer": "ipython3",
   "version": "3.7.4"
  },
  "mimetype": "text/x-python",
  "name": "python",
  "npconvert_exporter": "python",
  "pygments_lexer": "ipython3",
  "version": 3
 },
 "nbformat": 4,
 "nbformat_minor": 4
}
