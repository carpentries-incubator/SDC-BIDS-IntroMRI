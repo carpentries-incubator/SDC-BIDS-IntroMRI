{
 "cells": [
  {
   "cell_type": "markdown",
   "metadata": {},
   "source": [
    "# Brain Imaging Data Structure (BIDS)\n",
    "\n",
    "---\n",
    "\n",
    "Neuroimaging research requires working with a large amount of files with important but extremely variable metadata.\n",
    "\n",
    "- different study designs\n",
    "- different modalities\n",
    "- different acquisition parameters\n",
    "\n",
    "The [Brain Imaging Data Structure (BIDS)](https://www.nature.com/articles/sdata201644) is a simple and intuitive way to organize and describe your neuroimaging and behavioural data. Neuroimaging experiments result in complicated data that can be arranged in several different ways. BIDS tackles this problem by suggesting a new standard (based on consensus from multiple researchers across the world) for the arrangement of neuroimaging datasets. Using the same organizational standard for all of your studies will also allow you to easily reuse your scripts and share data and code with other researchers.\n",
    "\n",
    "Homogeneity in data desciption practices causes:\n",
    "- sharing data\n",
    "- automatically validate dataset\n",
    "- easier to write pipelines\n",
    "- database curators\n",
    "- names that are formalized but easily understood\n",
    "- file formats that are easily machine readable\n",
    "\n",
    "For a more comprehensive overview, check out the [BIDS Starter Kit](https://github.com/bids-standard/bids-starter-kit/wiki).\n",
    "\n",
    "Github repository with lots of different resources\n",
    "\n",
    "\n",
    "collaborative website\n",
    "\n",
    "download examples\n",
    "\n",
    "adopted by big datasets: FCP-INDI, "
   ]
  },
  {
   "cell_type": "markdown",
   "metadata": {},
   "source": [
    "<img src=\"../fig/bids_structure.jpg\" alt=\"Drawing\" align=\"middle\" width=\"600px\"/>"
   ]
  },
  {
   "cell_type": "markdown",
   "metadata": {},
   "source": [
    "## Structure\n",
    "\n",
    "The current spec https://bids-specification.readthedocs.io/en/stable/"
   ]
  },
  {
   "cell_type": "markdown",
   "metadata": {},
   "source": [
    "- `dataset_description.json`\n",
    "- `README.txt`\n",
    "- `participants.tsv`"
   ]
  },
  {
   "cell_type": "markdown",
   "metadata": {},
   "source": [
    "**EXERCISE**: The Case of Rea Seach\n",
    "\n",
    "> Hey Rea,  \n",
    "> Great to see you at the conference last month. Here's the data we talked about for that\n",
    "new project. We tested 5 participant 4 months apart with diffusion, resting-state and our new favorite task.  \n",
    "> The data is organized according to modality. I attached a spreadsheet of the participant demographics for you.  \n",
    "> Looking forward to seeing how this project works out!  \n",
    "> Cole Labo\n",
    "\n",
    "Lets try converting the NIfTI data to BIDS manually."
   ]
  },
  {
   "cell_type": "code",
   "execution_count": null,
   "metadata": {},
   "outputs": [],
   "source": [
    "%% bash\n",
    "\n",
    "mkdir -p sub-01/ses-01/{anat,func}\n",
    "rename 's/dcm_anat/sub-01/' *nii.gz\n",
    "rename 's/dcm_anat/sub-01/' *json\n",
    "rename 's/dcm_func/sub-01/' *nii.gz\n",
    "rename 's/dcm_func/sub-01/' *json"
   ]
  },
  {
   "cell_type": "code",
   "execution_count": null,
   "metadata": {},
   "outputs": [],
   "source": [
    "import json\n",
    "from collections import OrderedDict\n",
    "\n",
    "data= OrderedDict()\n",
    "data['Name'] = 'BIDS Test'\n",
    "data['BIDSVersion'] = '1.6.0'\n",
    "data['License'] = ''\n",
    "data['Authors'] = ['','','']\n",
    "data['Acknowledgements'] = ''\n",
    "data['HowToAcknowledge'] = ''\n",
    "data['Funding'] = ['','','']\n",
    "data['ReferencesAndLinks'] = ['','','']\n",
    "data['DatasetDOI'] = ''\n",
    "dataset_json_name='../data/dicom_examples/nii/dataset_description.json'\n",
    "\n",
    "with open(dataset_json_name, 'w') as ff:\n",
    "    json.dump(data, ff,sort_keys=False, indent=2)"
   ]
  },
  {
   "cell_type": "code",
   "execution_count": null,
   "metadata": {},
   "outputs": [],
   "source": []
  },
  {
   "cell_type": "markdown",
   "metadata": {},
   "source": [
    "## Conversion Methods\n",
    "\n",
    "- [heudiconv](https://github.com/nipy/heudiconv)\n",
    "- [Dcm2Bids](https://github.com/cbedetti/Dcm2Bids)\n",
    "- [bidskit](https://github.com/jmtyszka/bidskit)\n",
    "- [dac2bids](https://github.com/dangom/dac2bids)\n",
    "- [BIDScoin](https://github.com/Donders-Institute/bidscoin)\n",
    "- and more!"
   ]
  },
  {
   "cell_type": "code",
   "execution_count": null,
   "metadata": {},
   "outputs": [],
   "source": [
    "%%bash\n",
    "\n",
    "cd data/dicom_examples\n",
    "mkdir dcm2bids\n",
    "\n",
    "dcm2bids_scaffold dcm2bids/\n"
   ]
  },
  {
   "cell_type": "code",
   "execution_count": null,
   "metadata": {},
   "outputs": [],
   "source": [
    "%%bash\n",
    "\n",
    "dcm2bids_helper -d 0219191_mystudy-0219-1114/"
   ]
  },
  {
   "cell_type": "code",
   "execution_count": null,
   "metadata": {},
   "outputs": [],
   "source": [
    "%%bash\n",
    "\n",
    "dcm2bids -d 0219191_mystudy-0219-1114/ -p 01 -s 01 -c code/config.json -o dcm2bids/"
   ]
  },
  {
   "cell_type": "markdown",
   "metadata": {},
   "source": [
    "## BIDS Validator\n",
    "\n",
    "Can be run [online](https://bids-standard.github.io/bids-validator)\n",
    "\n",
    "> Selecting a dataset only performs validation. Files are never uploaded.\n",
    "\n",
    "Select the data directory and wait for it to finish validation.\n",
    "\n",
    "View errors and warnings.\n",
    "\n",
    "everything happens client side\n",
    "static page\n",
    "no data gets uploaded"
   ]
  },
  {
   "cell_type": "markdown",
   "metadata": {},
   "source": [
    "## BIDS Apps\n",
    "\n",
    "[BIDS Apps](https://bids-apps.neuroimaging.io/) are containerized applications that run on BIDS data structures.  \n",
    "\n",
    "Some examples include:\n",
    "- freesurfer\n",
    "- fmriprep (https://fmriprep.readthedocs.io/en/stable/citing.html)\n",
    "- mriqc\n",
    "- ciftify\n",
    "- SPM\n",
    "- MRtrix3_connectome\n",
    "\n",
    "They rely on 2 technologies for container computing:\n",
    "- Docker\n",
    "  - for building, hosting, and running containers on local hardware (Windows, Mac OS, Linux) or in the cloud\n",
    "- Singularity\n",
    "  - for running containers on high performance compute clusters"
   ]
  },
  {
   "cell_type": "markdown",
   "metadata": {},
   "source": [
    "---\n",
    "\n",
    "#### References\n",
    "1. Gorgolewski, K. J., Auer, T., Calhoun, V. D., Craddock, R. C., Das, S., Duff, E. P., … Poldrack, R. A. (2016). The brain imaging data structure, a format for organizing and describing outputs of neuroimaging experiments. Scientific Data, 3(1). https://doi.org/10.1038/sdata.2016.44"
   ]
  },
  {
   "cell_type": "code",
   "execution_count": null,
   "metadata": {},
   "outputs": [],
   "source": []
  }
 ],
 "metadata": {
  "file_extension": ".py",
  "kernelspec": {
   "display_name": "Python 3",
   "language": "python",
   "name": "python3"
  },
  "language_info": {
   "codemirror_mode": {
    "name": "ipython",
    "version": 3
   },
   "file_extension": ".py",
   "mimetype": "text/x-python",
   "name": "python",
   "nbconvert_exporter": "python",
   "pygments_lexer": "ipython3",
   "version": "3.7.4"
  },
  "mimetype": "text/x-python",
  "name": "python",
  "npconvert_exporter": "python",
  "pygments_lexer": "ipython3",
  "version": 3
 },
 "nbformat": 4,
 "nbformat_minor": 4
}
