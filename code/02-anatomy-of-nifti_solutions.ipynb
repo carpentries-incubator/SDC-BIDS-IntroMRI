{
 "cells": [
  {
   "cell_type": "markdown",
   "id": "d243d6b8",
   "metadata": {},
   "source": [
    "# Anatomy of a NIfTI\n",
    "\n",
    "---\n",
    "\n",
    "In the last lesson, we introduced the NIfTI. NIfTI is one of the most ubiquitous file formats for storing neuroimaging data. We'll cover a few details to get started working with them. If you're interested in learning more about NIfTI images, we highly recommend [this blog post about the NIfTI format](http://brainder.org/2012/09/23/the-nifti-file-format/)."
   ]
  },
  {
   "cell_type": "markdown",
   "id": "438d01c2",
   "metadata": {},
   "source": [
    "## Reading NIfTI images\n",
    "\n",
    "[NiBabel](http://nipy.org/nibabel/) is a Python package for reading and writing neuroimaging data. To learn more about how NiBabel handles NIfTIs, check out the [Working with NIfTI images](http://nipy.org/nibabel/nifti_images.html) page of the NiBabel documentation."
   ]
  },
  {
   "cell_type": "code",
   "execution_count": null,
   "id": "1d653bed",
   "metadata": {},
   "outputs": [],
   "source": [
    "import nibabel as nib"
   ]
  },
  {
   "cell_type": "markdown",
   "id": "a994b315",
   "metadata": {},
   "source": [
    "First, use the `load()` function to create a NiBabel image object from a NIfTI file. We'll load in an example T1w image from the zip file we just downloaded."
   ]
  },
  {
   "cell_type": "code",
   "execution_count": null,
   "id": "a8d6ad0b",
   "metadata": {},
   "outputs": [],
   "source": [
    "t1_img = nib.load(\"../data/dicom_examples/nii/dcm_anat_ses-01_T1w_20190219111436_5.nii.gz\")"
   ]
  },
  {
   "cell_type": "markdown",
   "id": "cd75a8d7",
   "metadata": {},
   "source": [
    "Loading in a NIfTI file with `nibabel` gives us a special type of data object which encodes all the information in the file. Each bit of information is called an **attribute** in Python's terminology. To see all of these attributes, type `t1_img.` and <kbd>Tab</kbd>.  \n",
    "There are three main attributes that we'll discuss today:"
   ]
  },
  {
   "cell_type": "markdown",
   "id": "d49ae119",
   "metadata": {},
   "source": [
    "### 1. [Header](http://nipy.org/nibabel/nibabel_images.html#the-image-header): contains metadata about the image, such as image dimensions, data type, etc."
   ]
  },
  {
   "cell_type": "code",
   "execution_count": null,
   "id": "0f4b65ee",
   "metadata": {
    "tags": []
   },
   "outputs": [],
   "source": [
    "t1_hdr = t1_img.header\n",
    "print(t1_hdr)"
   ]
  },
  {
   "cell_type": "markdown",
   "id": "689fe2eb",
   "metadata": {},
   "source": [
    "`t1_hdr` is a Python **dictionary**. Dictionaries are containers that hold pairs of objects - keys and values. Let's take a look at all of the keys.\n",
    "Similar to `t1_img` in which attributes can be accessed by typing `t1_img.` and hitting <kbd>Tab</kbd>, you can do the same with `t1_hdr`. In particular, we'll be using a **method** belonging to `t1_hdr` that will allow you to view the keys associated with it."
   ]
  },
  {
   "cell_type": "code",
   "execution_count": null,
   "id": "d4ae17f6",
   "metadata": {},
   "outputs": [],
   "source": [
    "t1_hdr.keys()"
   ]
  },
  {
   "cell_type": "markdown",
   "id": "ae0d5c11",
   "metadata": {},
   "source": [
    "Notice that **methods** require you to include `()` at the end of them whereas **attributes** do not.\n",
    "The key difference between a method and an attribute is:\n",
    "- Attributes are *stored values* kept within an object\n",
    "- Methods are *processes* that we can run using the object. Usually a method takes attributes, performs an operation on them, then returns it for you to use.\n",
    "\n",
    "When you type in `t1_img.` followed by <kbd>Tab</kbd>, you'll see that attributes are highlighted in <span style=\"color:orange\"> orange </span> and methods highlighted in <span style=\"color:blue\"> blue </span>."
   ]
  },
  {
   "cell_type": "markdown",
   "id": "96689c79",
   "metadata": {},
   "source": [
    "The output above is a list of **keys** you can use from `t1_hdr` to access **values**. We can access the value stored by a given key by typing:\n",
    "\n",
    "```python\n",
    "t1_hdr['<key_name>']\n",
    "```"
   ]
  },
  {
   "cell_type": "markdown",
   "id": "19b1a3b1",
   "metadata": {},
   "source": [
    "**EXERCISE:** Extract the value of `pixdim` from `t1_hdr`"
   ]
  },
  {
   "cell_type": "code",
   "execution_count": null,
   "id": "d8c2ec73",
   "metadata": {},
   "outputs": [],
   "source": [
    "t1_hdr['pixdim']"
   ]
  },
  {
   "cell_type": "markdown",
   "id": "fe1d5c69",
   "metadata": {},
   "source": [
    "In addition to metadata embedded in the NIfTI header, the T1w image also has a corresponding JSON file with additional scan acquisition details. Using the JSON file to store this information is a concept added by BIDS (which we'll cover in the next lesson) to log the important bits of information that traditionally get excluded from the NIfTI header.\n",
    "\n",
    "Let's take a look at it below:"
   ]
  },
  {
   "cell_type": "code",
   "execution_count": null,
   "id": "f271883d",
   "metadata": {},
   "outputs": [],
   "source": [
    "import json\n",
    "\n",
    "with open(\"../data/dicom_examples/nii/dcm_anat_ses-01_T1w_20190219111436_5.json\", \"r\") as f:\n",
    "    t1_metadata = json.load(f)\n",
    "    \n",
    "t1_metadata"
   ]
  },
  {
   "cell_type": "markdown",
   "id": "1dd47830",
   "metadata": {},
   "source": [
    "The additional metadata are also in the form of a Python **dictionary**."
   ]
  },
  {
   "cell_type": "markdown",
   "id": "d3720bdf",
   "metadata": {},
   "source": [
    "**EXERCISE:** Extract the value of `SliceThickness` from `t1_metadata` similar to how you did previously for `t1_hdr`."
   ]
  },
  {
   "cell_type": "code",
   "execution_count": null,
   "id": "3e6512e6",
   "metadata": {},
   "outputs": [],
   "source": [
    "t1_metadata[\"SliceThickness\"]"
   ]
  },
  {
   "cell_type": "markdown",
   "id": "4453aa59",
   "metadata": {},
   "source": [
    "### 2. Data\n",
    "As you've seen above, the header contains useful information that gives us information about the properties (metadata) associated with the MR data we've loaded in. Now we'll move in to loading the actual *image data itself*. We can achieve this by using the *method* called `t1_img.get_fdata()`."
   ]
  },
  {
   "cell_type": "code",
   "execution_count": null,
   "id": "016aa5d6",
   "metadata": {},
   "outputs": [],
   "source": [
    "t1_data = t1_img.get_fdata()\n",
    "t1_data"
   ]
  },
  {
   "cell_type": "markdown",
   "id": "fb375b60",
   "metadata": {},
   "source": [
    "What type of data is this exactly? We can determine this by calling the `type()` function on `t1_data`."
   ]
  },
  {
   "cell_type": "code",
   "execution_count": null,
   "id": "05fcb5f5",
   "metadata": {},
   "outputs": [],
   "source": [
    "type(t1_data)"
   ]
  },
  {
   "cell_type": "markdown",
   "id": "0ac3a9a0",
   "metadata": {},
   "source": [
    "The data is a multidimensional **array** representing the image data. In Python, an array is used to store lists of numerical data into something like a table."
   ]
  },
  {
   "cell_type": "markdown",
   "id": "5b50378d",
   "metadata": {},
   "source": [
    "**EXERCISE:** Let's check out some *attributes* of the array. How can we see the number of dimensions in the `t1_data` array? What about the how big each dimension is (shape)? Once again, all of the attributes of the array can be seen by typing `t1_data.` and <kbd>Tab</kbd>."
   ]
  },
  {
   "cell_type": "code",
   "execution_count": null,
   "id": "fc92e05f",
   "metadata": {},
   "outputs": [],
   "source": [
    "t1_data.ndim"
   ]
  },
  {
   "cell_type": "markdown",
   "id": "2510c1f4",
   "metadata": {},
   "source": [
    "`t1_data` contains 3 dimensions. You can think of the data as a 3D version of a picture (more accurately, a volume).\n",
    "\n",
    "<img src=\"../fig/numpy_arrays.png\" alt=\"Drawing\" align=\"middle\" width=\"600px\"/>\n",
    "\n",
    "While typical 2D pictures are made out of squares called **pixels**, a 3D MR image is made up of 3D cubes called **voxels**.\n",
    "\n",
    "<img src=\"http://www.sprawls.org/mripmt/MRI10/MR10-2.jpg\" alt=\"Drawing\" align=\"middle\" width=\"500px\"/>"
   ]
  },
  {
   "cell_type": "code",
   "execution_count": null,
   "id": "1a313935",
   "metadata": {},
   "outputs": [],
   "source": [
    "t1_data.shape"
   ]
  },
  {
   "cell_type": "markdown",
   "id": "08c338bb",
   "metadata": {},
   "source": [
    "The 3 numbers given here represent the number of values *along a respective dimension (x,y,z)*. This brain was scanned in 192 slices with a resolution of 256 x 256 voxels per slice. That means there are:\n",
    "\n",
    "$$x * y * z = value$$\n",
    "$$ 192 * 256 * 256 = 12582912$$ voxels in total!"
   ]
  },
  {
   "cell_type": "markdown",
   "id": "8d74ecd9",
   "metadata": {},
   "source": [
    "Let's see the type of data inside of the array."
   ]
  },
  {
   "cell_type": "code",
   "execution_count": null,
   "id": "bb7f7361",
   "metadata": {},
   "outputs": [],
   "source": [
    "t1_data.dtype"
   ]
  },
  {
   "cell_type": "markdown",
   "id": "b3a4fc92",
   "metadata": {},
   "source": [
    "This tells us that each element in the array (or voxel) is a floating-point number.   \n",
    "The data type of an image controls the range of possible intensities. As the number of possible values increases, the amount of space the image takes up in memory also increases."
   ]
  },
  {
   "cell_type": "code",
   "execution_count": null,
   "id": "4a9a9819",
   "metadata": {
    "tags": []
   },
   "outputs": [],
   "source": [
    "import numpy as np\n",
    "\n",
    "print(np.min(t1_data))\n",
    "print(np.max(t1_data))"
   ]
  },
  {
   "cell_type": "markdown",
   "id": "caaa7e29",
   "metadata": {},
   "source": [
    "For our data, the range of intensity values goes from 0 (black) to more positive digits (whiter)."
   ]
  },
  {
   "cell_type": "markdown",
   "id": "1c874d35",
   "metadata": {},
   "source": [
    "How do we examine what value a particular voxel is? We can inspect the value of a voxel by selecting an **index** as follows:\n",
    "\n",
    "~~~python\n",
    "data[x,y,z]\n",
    "~~~"
   ]
  },
  {
   "cell_type": "markdown",
   "id": "d67abb2d",
   "metadata": {},
   "source": [
    "So for example we can inspect a voxel at coordinates (10,20,3) by doing the following:"
   ]
  },
  {
   "cell_type": "code",
   "execution_count": null,
   "id": "ed25f8ce",
   "metadata": {},
   "outputs": [],
   "source": [
    "t1_data[9, 19, 2]"
   ]
  },
  {
   "cell_type": "markdown",
   "id": "c96a85a2",
   "metadata": {},
   "source": [
    "**NOTE**: Python uses **zero-based indexing**. The first item in the array is item 0. The second item is item 1, the third is item 2, etc.\n",
    "\n",
    "This yields a single value representing the intensity of the signal at a particular voxel! Next we'll see how to not just pull one voxel but a slice or an *array* of voxels for visualization and analysis!"
   ]
  },
  {
   "cell_type": "markdown",
   "id": "7b08f8cd",
   "metadata": {},
   "source": [
    "## Working with image data\n",
    "\n",
    "Slicing does exactly what it seems to imply. Giving our 3D volume, we pull out a 2D slice of our data. Here's an example of slicing from left to right (**sagittal slicing**):\n",
    "\n",
    "<img src=\"https://upload.wikimedia.org/wikipedia/commons/5/56/Parasagittal_MRI_of_human_head_in_patient_with_benign_familial_macrocephaly_prior_to_brain_injury_%28ANIMATED%29.gif\"/>\n",
    "\n",
    "This gif is a series of 2D images or **slices** moving from left to right."
   ]
  },
  {
   "cell_type": "markdown",
   "id": "bbfc604a",
   "metadata": {},
   "source": [
    "Let's pull the 50th slice in the x axis."
   ]
  },
  {
   "cell_type": "code",
   "execution_count": null,
   "id": "8157c296",
   "metadata": {},
   "outputs": [],
   "source": [
    "x_slice = t1_data[49, :, :]"
   ]
  },
  {
   "cell_type": "markdown",
   "id": "f91482c3",
   "metadata": {},
   "source": [
    "This is similar to the indexing we did before to pull out a single voxel. However, instead of providing a value for each axis, the `:` indicates that we want to grab *all* values from that particular axis."
   ]
  },
  {
   "cell_type": "markdown",
   "id": "b62ed728",
   "metadata": {},
   "source": [
    "**EXERCISE:** Now try selecting the 80th slice from the y axis."
   ]
  },
  {
   "cell_type": "code",
   "execution_count": null,
   "id": "e884d261",
   "metadata": {},
   "outputs": [],
   "source": [
    "y_slice = t1_data[:, 79, :]"
   ]
  },
  {
   "cell_type": "markdown",
   "id": "068aa61a",
   "metadata": {},
   "source": [
    "**EXERCISE:** Finally try grabbing the 100th slice from the z axis."
   ]
  },
  {
   "cell_type": "code",
   "execution_count": null,
   "id": "cbfa4b3a",
   "metadata": {},
   "outputs": [],
   "source": [
    "z_slice = t1_data[:, :, 99]"
   ]
  },
  {
   "cell_type": "markdown",
   "id": "66a80d53",
   "metadata": {},
   "source": [
    "We've been slicing and dicing brain images but we have no idea what they look like! In the next section we'll show you how you can visualize brain slices!"
   ]
  },
  {
   "cell_type": "markdown",
   "id": "4e262ea2",
   "metadata": {},
   "source": [
    "## Visualizing\n",
    "\n",
    "We previously inspected the signal intensity of the voxel at coordinates (10,20,3). Let's see what out data looks like when we slice it at this location. We've already indexed the data at each x, y, and z axis. Let's use `matplotlib`."
   ]
  },
  {
   "cell_type": "code",
   "execution_count": null,
   "id": "0396730e",
   "metadata": {},
   "outputs": [],
   "source": [
    "import matplotlib.pyplot as plt\n",
    "%matplotlib inline\n",
    "\n",
    "slices = [x_slice, y_slice, z_slice]\n",
    "\n",
    "fig, axes = plt.subplots(1, len(slices))\n",
    "for i, slice in enumerate(slices):\n",
    "    axes[i].imshow(slice.T, cmap=\"gray\", origin=\"lower\")"
   ]
  },
  {
   "cell_type": "code",
   "execution_count": null,
   "id": "699a88a1",
   "metadata": {},
   "outputs": [],
   "source": [
    "from nilearn import plotting\n",
    "\n",
    "plotting.view_img(t1_img, black_bg=True, colorbar=False, cmap=\"gray\", symmetric_cmap=False, vmin=0)"
   ]
  },
  {
   "cell_type": "markdown",
   "id": "818dca27",
   "metadata": {},
   "source": [
    "Now, we're going to step away from discussing our data and talk about the final important attribute of a NIfTI.\n",
    "\n",
    "### 3. [Affine](http://nipy.org/nibabel/coordinate_systems.html): tells the position of the image array data in a *reference space*\n",
    "\n",
    "The final important piece of metadata associated with an image file is the **affine matrix**. Below is the affine matrix for our data."
   ]
  },
  {
   "cell_type": "code",
   "execution_count": null,
   "id": "659e06c2",
   "metadata": {},
   "outputs": [],
   "source": [
    "t1_affine = t1_img.affine\n",
    "t1_affine"
   ]
  },
  {
   "cell_type": "markdown",
   "id": "728b201d",
   "metadata": {},
   "source": [
    "To explain this concept, recall that we referred to coordinates in our data as (x,y,z) coordinates such that:\n",
    "\n",
    "- x is the first dimension of `t1_data`\n",
    "- y is the second dimension of `t1_data`\n",
    "- z is the third dimension of `t1_data`\n",
    "\n",
    "Although this tells us how to access our data in terms of voxels in a 3D volume, it doesn't tell us much about the actual dimensions in our data (centimetres, right or left, up or down, back or front). The affine matrix allows us to translate between *voxel coordinates (x,y,z)* and *world space coordinates* in (left/right,bottom/top,back/front). An important thing to note is that in reality in which order you have:\n",
    "\n",
    "- left/right\n",
    "- bottom/top\n",
    "- back/front\n",
    "\n",
    "Depends on how you've constructed the affine matrix, but for the data we're dealing with it always refers to:\n",
    "\n",
    "- Right\n",
    "- Anterior\n",
    "- Superior\n",
    "\n",
    "Applying the affine matrix (`t1_affine`) is done through using a *linear map* (matrix multiplication) on voxel coordinates (defined in `t1_data`). \n",
    "\n",
    "<img src=\"../fig/coordinate_systems.png\" alt=\"Drawing\" align=\"middle\" width=\"500px\"/>\n",
    "\n",
    "The concept of an affine matrix may seem confusing at first but an example might help gain an intuition:\n",
    "\n",
    "Suppose we have two voxels located at the the following coordinates:\n",
    "\n",
    "$$(15,2,90)$$\n",
    "$$(64,100,2)$$\n",
    "\n",
    "And we wanted to know what the distances between these two voxels are in terms of real world distances (millimetres). This information cannot be derived from using voxel coordinates so we turn to the **affine matrix**. \n",
    "\n",
    "Now, the affine matrix we'll be using happens to be encoded in **RAS**. That means once we apply the matrix our coordinates are as follows:\n",
    "\n",
    "$$(\\text{Right},\\text{Anterior},\\text{Superior})$$\n",
    "\n",
    "So increasing a coordinate value in the first dimension corresponds to moving to the right of the person being scanned. \n",
    "\n",
    "Applying our affine matrix yields the following coordinates:\n",
    "\n",
    "$$(90.23,0.2,2.15)$$\n",
    "$$(10.25,30.5,9.2)$$\n",
    "\n",
    "This means that:\n",
    "\n",
    "- Voxel 1 is $90.23-10.25= 79.98$ in the R axis. Positive values mean move right\n",
    "- Voxel 1 is $0.2-30.5= -30.3$ in the A axis. Negative values mean move posterior\n",
    "- Voxel 1 is $2.15-9.2= -7.05$ in the S axis. Negatve values mean move inferior"
   ]
  },
  {
   "cell_type": "markdown",
   "id": "fa87da62",
   "metadata": {},
   "source": [
    "---\n",
    "\n",
    "This covers the basics of how NIfTI data and metadata are stored and organized in the context of Python. In the next segment we'll talk a bit about an increasingly important component of MR data analysis - data organization. This is a key component to reproducible analysis and so we'll spend a bit of time here. "
   ]
  }
 ],
 "metadata": {
  "jupytext": {
   "formats": "ipynb,md"
  },
  "kernelspec": {
   "display_name": "Python 3",
   "language": "python",
   "name": "python3"
  }
 },
 "nbformat": 4,
 "nbformat_minor": 5
}
