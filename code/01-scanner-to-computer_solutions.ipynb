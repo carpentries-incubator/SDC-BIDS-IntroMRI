{
 "cells": [
  {
   "cell_type": "markdown",
   "metadata": {},
   "source": [
    "# From the scanner to our computer"
   ]
  },
  {
   "cell_type": "code",
   "execution_count": null,
   "metadata": {},
   "outputs": [],
   "source": [
    "%% bash\n",
    "\n",
    "wget https://zenodo.org/record/3677090/files/0219191_mystudy-0219-1114.tar.gz -O ../data/0219191_mystudy-0219-1114.tar.gz\n",
    "mkdir -p ../data/dicom_examples\n",
    "tar -xvzf ../data/0219191_mystudy-0219-1114.tar.gz -C ../data/dicom_examples\n",
    "gzip -d ../data/dicom_examples/0219191_mystudy-0219-1114/dcm/*dcm.gz\n",
    "rm ../data/0219191_mystudy-0219-1114.tar.gz"
   ]
  },
  {
   "cell_type": "code",
   "execution_count": null,
   "metadata": {},
   "outputs": [],
   "source": [
    "%% bash\n",
    "\n",
    "dcm2niix -help"
   ]
  },
  {
   "cell_type": "code",
   "execution_count": null,
   "metadata": {},
   "outputs": [],
   "source": [
    "%% bash\n",
    "\n",
    "mkdir -p ../data/dicom_examples/nii\n",
    "dcm2niix -z y -o ../data/dicom_examples ../data/dicom_examples/0219191_mystudy-0219-1114/dcm"
   ]
  }
 ],
 "metadata": {
  "kernelspec": {
   "display_name": "Python 3",
   "language": "python",
   "name": "python3"
  },
  "language_info": {
   "codemirror_mode": {
    "name": "ipython",
    "version": 3
   },
   "file_extension": ".py",
   "mimetype": "text/x-python",
   "name": "python",
   "nbconvert_exporter": "python",
   "pygments_lexer": "ipython3",
   "version": "3.7.4"
  }
 },
 "nbformat": 4,
 "nbformat_minor": 4
}