{
 "cells": [
  {
   "cell_type": "markdown",
   "id": "1c1c4e1a",
   "metadata": {},
   "source": [
    "# From the scanner to our computer\n",
    "\n",
    "SMALL INTRO BLURB ABOUT DIFFERENT MR SCANS\n",
    "\n",
    "## Neuroimaging file formats\n",
    "\n",
    "|Format Name | File Extension | Origin |\n",
    "|---|---|---|\n",
    "| DICOM | none | ACR/NEMA Consortium |\n",
    "| Analyze | .img/.hdr | Analyze Software, Mayo Clinic |\n",
    "| NIfTI | .nii | Neuroimaging Informatics Technology Initiative |\n",
    "| MINC | .mnc | Montreal Neurological Institute |\n",
    "| NRRD | .nrrd | |\n",
    "\n",
    "From the MRI scanner, images are initially collected in the DICOM format and can be converted to these other formats to make working with the data easier.\n",
    "\n",
    "<img src=\"../fig/dicom_to_nifti.png\" alt=\"Drawing\" align=\"middle\" width=\"600px\"/>\n",
    "\n",
    "Let's download some example DICOM data to see what it looks like.\n",
    "This data was generously shared publicly by the [Princeton Handbook for Reproducible Neuroimaging](https://brainhack-princeton.github.io/handbook/)."
   ]
  },
  {
   "cell_type": "code",
   "execution_count": null,
   "id": "b86d6c69",
   "metadata": {},
   "outputs": [],
   "source": [
    "%%bash\n",
    "\n",
    "wget https://zenodo.org/record/3677090/files/0219191_mystudy-0219-1114.tar.gz -O data/0219191_mystudy-0219-1114.tar.gz\n",
    "mkdir -p ../data/dicom_examples\n",
    "tar -xvzf ../data/0219191_mystudy-0219-1114.tar.gz -C ../data/dicom_examples\n",
    "gzip -d ../data/dicom_examples/0219191_mystudy-0219-1114/dcm/*dcm.gz\n",
    "rm ../data/0219191_mystudy-0219-1114.tar.gz"
   ]
  },
  {
   "cell_type": "markdown",
   "id": "3049c248",
   "metadata": {},
   "source": [
    "NIfTI is one of the most ubiquitous file formats for storing neuroimaging data.\n",
    "If you're interested in learning more about NIfTI images, we highly recommend [this blog post about the NIfTI format](http://brainder.org/2012/09/23/the-nifti-file-format/).\n",
    "We can convert our DICOM data to NIfTI using [dcm2niix](https://github.com/rordenlab/dcm2niix).\n",
    "\n",
    "We can learn how to run `dcm2niix` by taking a look at its help menu."
   ]
  },
  {
   "cell_type": "code",
   "execution_count": null,
   "id": "e57dec0b",
   "metadata": {},
   "outputs": [],
   "source": [
    "%%bash\n",
    "\n",
    "dcm2niix -help"
   ]
  },
  {
   "cell_type": "markdown",
   "id": "528714bd",
   "metadata": {},
   "source": [
    "### Converting DICOM to NIfTI"
   ]
  },
  {
   "cell_type": "markdown",
   "id": "a88f488a",
   "metadata": {
    "solution2": "hidden",
    "solution2_first": true
   },
   "source": [
    "**EXERCISE:** Convert the Princeton DICOM data to NIfTI"
   ]
  },
  {
   "cell_type": "code",
   "execution_count": null,
   "id": "16cfd9ac",
   "metadata": {},
   "outputs": [],
   "source": []
  },
  {
   "cell_type": "code",
   "execution_count": null,
   "id": "c5218fbb",
   "metadata": {
    "solution2": "hidden"
   },
   "outputs": [],
   "source": [
    "%%bash\n",
    "\n",
    "mkdir -p ../data/dicom_examples/nii\n",
    "dcm2niix \\\n",
    "    -z y \\\n",
    "    -o ../data/dicom_examples/nii \\\n",
    "    ../data/dicom_examples/0219191_mystudy-0219-1114/dcm"
   ]
  }
 ],
 "metadata": {
  "jupytext": {
   "formats": "ipynb,md"
  },
  "kernelspec": {
   "display_name": "Python 3",
   "language": "python",
   "name": "python3"
  }
 },
 "nbformat": 4,
 "nbformat_minor": 5
}
