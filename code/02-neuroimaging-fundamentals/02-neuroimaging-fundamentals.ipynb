{
 "cells": [
  {
   "cell_type": "markdown",
   "metadata": {},
   "source": [
    "## Neuroimaging Fundamentals"
   ]
  },
  {
   "cell_type": "markdown",
   "metadata": {},
   "source": [
    "### Types of MR Scans\n",
    "\n",
    "<img src=\"mr_scan_types.png\" align=\"middle\" width=\"500px\">\n",
    "\n",
    "#### Anatomical\n",
    "- 3D image of anatomy\n",
    "- a 3D **pixel** is called a **voxel**\n",
    "- T1w is the most common (white matter is white, grey matter is grey, cerebral spinal fluid (CSF) is black\n",
    "\n",
    "#### Functional (fMRI)\n",
    "- tracks the blood oxygen level dependant (BOLD) signal\n",
    "- 4D (x, y, z + time)\n",
    "- if a task, need an event.tsv file\n",
    "- sometimes has matching physio data\n",
    "\n",
    "#### Diffusion (DWI)\n",
    "- measures diffusion of water in order to model tissue microstructure\n",
    "- 4D (x, y, z + direction of diffusion)\n",
    "- need parameters about the strength of the diffusion \"gradient\" and it's direction for downstream processing (.bval and .bvec files)"
   ]
  },
  {
   "cell_type": "markdown",
   "metadata": {},
   "source": [
    "### Neuroimaging File Formats\n",
    "\n",
    "|Format Name | File Extension | Origin |\n",
    "|---|---|---|\n",
    "| Analyze | .img/.hdr | Analyze Software, Mayo Clinic |\n",
    "| DICOM | none | ACR/NEMA Consortium |\n",
    "| NIfTI | .nii or .img/.hdr | Neuroimaging Informatics Technology Initiative |\n",
    "| MINC | .mnc | Montreal Neurological Institute |\n",
    "| NRRD | .nrrd | |\n",
    "\n",
    "<img src=\"dicom_to_nifti.png\" align=\"middle\" width=\"300px\"/>\n",
    "\n",
    "From the MRI scanner, images are initially collected in the DICOM format and can be converted to NIfTI using [dcm2niix](https://github.com/rordenlab/dcm2niix)."
   ]
  }
 ],
 "metadata": {
  "kernelspec": {
   "display_name": "carpentry_venv",
   "language": "python",
   "name": "carpentry_venv"
  },
  "language_info": {
   "codemirror_mode": {
    "name": "ipython",
    "version": 3
   },
   "file_extension": ".py",
   "mimetype": "text/x-python",
   "name": "python",
   "nbconvert_exporter": "python",
   "pygments_lexer": "ipython3",
   "version": "3.7.3"
  }
 },
 "nbformat": 4,
 "nbformat_minor": 4
}
