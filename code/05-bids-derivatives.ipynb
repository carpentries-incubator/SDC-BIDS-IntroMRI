{
 "cells": [
  {
   "cell_type": "markdown",
   "id": "1316c203",
   "metadata": {},
   "source": [
    "## BIDS Apps\n",
    "\n",
    "[BIDS Apps](https://bids-apps.neuroimaging.io/) are containerized applications that run on BIDS data structures.  \n",
    "\n",
    "Some examples include:\n",
    "- freesurfer\n",
    "- fmriprep (https://fmriprep.readthedocs.io/en/stable/citing.html)\n",
    "- mriqc\n",
    "- ciftify\n",
    "- SPM\n",
    "- MRtrix3_connectome\n",
    "\n",
    "They rely on 2 technologies for container computing:\n",
    "- Docker\n",
    "  - for building, hosting, and running containers on local hardware (Windows, Mac OS, Linux) or in the cloud\n",
    "- Singularity\n",
    "  - for running containers on high performance compute clusters"
   ]
  },
  {
   "cell_type": "code",
   "execution_count": null,
   "id": "e2234bf1",
   "metadata": {},
   "outputs": [],
   "source": []
  }
 ],
 "metadata": {
  "kernelspec": {
   "display_name": "Python 3",
   "language": "python",
   "name": "python3"
  },
  "language_info": {
   "codemirror_mode": {
    "name": "ipython",
    "version": 3
   },
   "file_extension": ".py",
   "mimetype": "text/x-python",
   "name": "python",
   "nbconvert_exporter": "python",
   "pygments_lexer": "ipython3",
   "version": "3.7.4"
  }
 },
 "nbformat": 4,
 "nbformat_minor": 5
}
