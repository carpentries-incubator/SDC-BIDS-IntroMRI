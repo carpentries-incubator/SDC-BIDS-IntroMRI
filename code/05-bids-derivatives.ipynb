{
 "cells": [
  {
   "cell_type": "markdown",
   "id": "115292ab",
   "metadata": {},
   "source": [
    "## BIDS Apps\n",
    "\n",
    "[BIDS Apps](https://bids-apps.neuroimaging.io/) are containerized applications that run on BIDS data structures.  \n",
    "\n",
    "Some examples include:\n",
    "- mriqc\n",
    "- fmriprep\n",
    "- freesurfer\n",
    "- ciftify\n",
    "- SPM\n",
    "- MRtrix3_connectome\n",
    "\n",
    "They rely on 2 technologies for container computing:\n",
    "- <b>Docker</b>\n",
    "  - for building, hosting, and running containers on local hardware (Windows, Mac OS, Linux) or in the cloud\n",
    "- <b>Singularity</b>\n",
    "  - for running containers on high performance compute clusters\n",
    "  \n",
    "<img src=\"../fig/bids_app.png\" alt=\"Drawing\" align=\"middle\" width=\"500px\"/>\n",
    "\n",
    "Building a singularity container is as easy as:\n",
    "    \n",
    "    `singularity build mriqc-0.16.1.simg docker://poldracklab/mriqc:0.16.1`\n",
    "    \n",
    "To run the container:\n",
    "\n",
    "```\n",
    "singularity run --cleanenv \\\n",
    "  -B bids_folder:/data \\\n",
    "  mriqc-0.16.1.simg \\\n",
    "  /data /data/derivatives participant\n",
    "```"
   ]
  }
 ],
 "metadata": {
  "kernelspec": {
   "display_name": "Python 3",
   "language": "python",
   "name": "python3"
  },
  "language_info": {
   "codemirror_mode": {
    "name": "ipython",
    "version": 3
   },
   "file_extension": ".py",
   "mimetype": "text/x-python",
   "name": "python",
   "nbconvert_exporter": "python",
   "pygments_lexer": "ipython3",
   "version": "3.7.4"
  }
 },
 "nbformat": 4,
 "nbformat_minor": 5
}
