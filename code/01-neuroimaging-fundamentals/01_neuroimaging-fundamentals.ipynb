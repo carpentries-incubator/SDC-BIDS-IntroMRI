{
 "cells": [
  {
   "cell_type": "markdown",
   "metadata": {},
   "source": [
    "## Welcome to the Intro to MRI and BIDS Workshop!\n",
    "\n",
    "- Welcome statement \n",
    "- What we'll cover\n",
    "- Goals of the workshop\n",
    "\n",
    "Welcome to our Intro to MRI and BIDS workshop. In this workshop, we'll cover:\n",
    "- MRI nomenclature (with BIDS)\n",
    "- \"converting\" your data to BIDS\n",
    "- BIDS apps\n",
    "- \n",
    "teach you using Python and Jupyter notebooks. We'll start with a basic overview of how we can load, view, and play around with MR images using Python's neuroimaging libraries (<code>Nibabel</code>). \n",
    "\n",
    "### Why Python?\n",
    "\n",
    "Python is rapidly becoming the standard language for data analysis, visualization and automated workflow building. It is a free and open-source software that is relatively easy to pick up by new programmers. In addition, with Python packages such as <code>Jupyter</code> one can keep an interactive code journal of analysis - this is what we'll be using in the workshop, and is, in fact, what you are currently using to view this workshop! Using Jupyter notebooks allows you to keep a record of all the steps in your analysis, enabling transparency and ease of code sharing. \n",
    "\n",
    "Another advantage of Python is that it is maintained by a large user-base. Anyone can easily make their own Python packages for others to use. Therefore, there exists a *very* large codebase for you to take advantage of for your neuroimaging analysis; from basic statistical analysis and visualization tools to advanced machine learning and multivariate methods!\n",
    "\n",
    "We'll begin with a basic overview of MR data and then move into how we can work with MR data in Python:"
   ]
  },
  {
   "cell_type": "markdown",
   "metadata": {},
   "source": [
    "### Types of MR Scans\n",
    "\n",
    "<img src=\"mr_scan_types.png\" align=\"middle\" width=\"500px\">\n",
    "\n",
    "For this tutorial, we'll be focusing on T1w and resting state fMRI scans.\n",
    "\n",
    "### Neuroimaging File Formats\n",
    "\n",
    "|Format Name | File Extension | Origin |\n",
    "|---|---|---|\n",
    "| Analyze | .img/.hdr | Analyze Software, Mayo Clinic |\n",
    "| DICOM | none | ACR/NEMA Consortium |\n",
    "| NIfTI | .nii or .img/.hdr | Neuroimaging Informatics Technology Initiative |\n",
    "| MINC | .mnc | Montreal Neurological Institute |\n",
    "| NRRD | .nrrd | |\n",
    "\n",
    "<img src=\"dicom_to_nifti.png\" align=\"middle\" width=\"300px\"/>\n",
    "\n",
    "From the MRI scanner, images are initially collected in the DICOM format and can be converted to NIfTI using [dcm2niix](https://github.com/rordenlab/dcm2niix).\n"
   ]
  }
 ],
 "metadata": {
  "kernelspec": {
   "display_name": "carpentry_venv",
   "language": "python",
   "name": "carpentry_venv"
  },
  "language_info": {
   "codemirror_mode": {
    "name": "ipython",
    "version": 3
   },
   "file_extension": ".py",
   "mimetype": "text/x-python",
   "name": "python",
   "nbconvert_exporter": "python",
   "pygments_lexer": "ipython3",
   "version": "3.7.3"
  }
 },
 "nbformat": 4,
 "nbformat_minor": 2
}
