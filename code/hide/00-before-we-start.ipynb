{
 "cells": [
  {
   "cell_type": "markdown",
   "id": "a2cf4bdb",
   "metadata": {},
   "source": [
    "# Before we start"
   ]
  },
  {
   "cell_type": "code",
   "execution_count": null,
   "id": "2b2fb30d",
   "metadata": {},
   "outputs": [],
   "source": []
  }
 ],
 "metadata": {
  "kernelspec": {
   "display_name": "Python 3",
   "language": "python",
   "name": "python3"
  },
  "language_info": {
   "codemirror_mode": {
    "name": "ipython",
    "version": 3
   },
   "file_extension": ".py",
   "mimetype": "text/x-python",
   "name": "python",
   "nbconvert_exporter": "python",
   "pygments_lexer": "ipython3",
   "version": "3.7.4"
  }
 },
 "nbformat": 4,
 "nbformat_minor": 5
}
