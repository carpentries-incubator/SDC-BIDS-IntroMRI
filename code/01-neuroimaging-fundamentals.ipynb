{
 "cells": [
  {
   "cell_type": "markdown",
   "metadata": {},
   "source": [
    "# Neuroimaging Fundamentals\n",
    "\n",
    "---\n",
    "#### Objectives\n",
    "1. help\n",
    "1. help\n",
    "---"
   ]
  },
  {
   "cell_type": "markdown",
   "metadata": {},
   "source": [
    "## Types of MR Scans\n",
    "\n",
    "### Anatomical\n",
    "\n",
    "Imagine taking a slice \n",
    "\n",
    "<img src=\"../../fig/T1w.gif\" align=\"middle\"/>  \n",
    "\n",
    "<img src=\"../../fig/T2w.gif\" align=\"middle\"/>\n",
    "\n",
    "- 3D image of anatomy\n",
    "- a 3D **pixel** is called a **voxel**\n",
    "- T1w is the most common (white matter is white, grey matter is grey, cerebral spinal fluid (CSF) is black\n",
    "\n",
    "### Functional (fMRI)\n",
    "\n",
    "<img src=\"../../fig/bold.gif\" align=\"middle\"/>\n",
    "\n",
    "- tracks the blood oxygen level dependant (BOLD) signal\n",
    "- 4D (x, y, z + time)\n",
    "- if a task, need an event.tsv file\n",
    "- sometimes has matching physio data\n",
    "\n",
    "### Diffusion (DWI)\n",
    "\n",
    "<img src=\"../../fig/dwi.gif\" align=\"middle\"/>\n",
    "\n",
    "- measures diffusion of water in order to model tissue microstructure\n",
    "- 4D (x, y, z + direction of diffusion)\n",
    "- need parameters about the strength of the diffusion \"gradient\" and it's direction for downstream processing (.bval and .bvec files)"
   ]
  },
  {
   "cell_type": "markdown",
   "metadata": {},
   "source": [
    "## Neuroimaging File Formats\n",
    "\n",
    "|Format Name | File Extension | Origin |\n",
    "|---|---|---|\n",
    "| DICOM | none | ACR/NEMA Consortium |\n",
    "| Analyze | .img/.hdr | Analyze Software, Mayo Clinic |\n",
    "| NIfTI | .nii or .img/.hdr | Neuroimaging Informatics Technology Initiative |\n",
    "| MINC | .mnc | Montreal Neurological Institute |\n",
    "| NRRD | .nrrd | |\n",
    "\n",
    "<img src=\"dicom_to_nifti.png\" align=\"middle\" width=\"300px\"/>\n",
    "\n",
    "From the MRI scanner, images are initially collected in the DICOM format and can be converted to NIfTI using [dcm2niix](https://github.com/rordenlab/dcm2niix)."
   ]
  },
  {
   "cell_type": "markdown",
   "metadata": {},
   "source": [
    "___\n",
    "\n",
    "#### References\n",
    "1. Larobina, M., & Murino, L. (2013). Medical Image File Formats. Journal of Digital Imaging, 27(2), 200–206. https://doi.org/10.1007/s10278-013-9657-9 \n",
    "1. Li, X., Morgan, P. S., Ashburner, J., Smith, J., & Rorden, C. (2016). The first step for neuroimaging data analysis: DICOM to NIfTI conversion. Journal of Neuroscience Methods, 264, 47–56. https://doi.org/10.1016/j.jneumeth.2016.03.001 \n",
    "\n"
   ]
  },
  {
   "cell_type": "code",
   "execution_count": null,
   "metadata": {},
   "outputs": [],
   "source": []
  }
 ],
 "metadata": {
  "kernelspec": {
   "display_name": "Python 3",
   "language": "python",
   "name": "python3"
  },
  "language_info": {
   "codemirror_mode": {
    "name": "ipython",
    "version": 3
   },
   "file_extension": ".py",
   "mimetype": "text/x-python",
   "name": "python",
   "nbconvert_exporter": "python",
   "pygments_lexer": "ipython3",
   "version": "3.7.4"
  }
 },
 "nbformat": 4,
 "nbformat_minor": 4
}