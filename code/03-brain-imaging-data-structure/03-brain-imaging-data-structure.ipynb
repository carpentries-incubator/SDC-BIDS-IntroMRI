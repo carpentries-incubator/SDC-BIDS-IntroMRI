{
 "cells": [
  {
   "cell_type": "markdown",
   "metadata": {},
   "source": [
    "## Brain Imaging Data Structure (BIDS)\n",
    "\n",
    "Neuroimaging research requires working with a large amount of files with important but extremely variable metadata.\n",
    "\n",
    "- different modalities\n",
    "- different acquisition parameters\n",
    "\n",
    "The [Brain Imaging Data Structure (BIDS)](https://www.nature.com/articles/sdata201644) is a simple and intuitive way to organize and describe your neuroimaging and behavioural data. Neuroimaging experiments result in complicated data that can be arranged in several different ways. BIDS tackles this problem by suggesting a new standard (based on consensus from multiple researchers across the world) for the arrangement of neuroimaging datasets. Using the same organizational standard for all of your studies will also allow you to easily reuse your scripts and share data and code with other researchers.\n",
    "\n",
    "For a more comprehensive overview, check out the following [video](https://www.youtube.com/watch?v=OhqcQTi4xEI)."
   ]
  },
  {
   "cell_type": "markdown",
   "metadata": {},
   "source": [
    "### Structure"
   ]
  },
  {
   "cell_type": "markdown",
   "metadata": {},
   "source": [
    "- `dataset_description.json`\n",
    "- `README.txt`\n",
    "- `participants.tsv`"
   ]
  },
  {
   "cell_type": "markdown",
   "metadata": {},
   "source": [
    "**EXERCISE**: The Case of Rea Seach\n",
    "\n",
    "> Hey Rea,  \n",
    "> Great to see you at the conference last month. Here's the data we talked about for that\n",
    "new project. We tested 5 participant 4 months apart with diffusion, resting-state and our new favorite task.  \n",
    "> The data is organized according to modality. I attached a spreadsheet of the participant demographics for you.  \n",
    "> Looking forward to seeing how this project works out!  \n",
    "> Cole Labo  "
   ]
  },
  {
   "cell_type": "code",
   "execution_count": null,
   "metadata": {},
   "outputs": [],
   "source": [
    "import os  # interacting with the operating system\n",
    "import requests  # sending http requests\n",
    "import zipfile  # working with zip archives"
   ]
  },
  {
   "cell_type": "code",
   "execution_count": null,
   "metadata": {},
   "outputs": [],
   "source": [
    "# define the url of the data\n",
    "url = 'https://www.fmrib.ox.ac.uk/primers/intro_primer/ExBox17/ExBox17.zip'\n",
    "\n",
    "# download data using the requests package\n",
    "data = requests.get(url)\n",
    "\n",
    "# check if the target folder for storing the data already exists\n",
    "# if not, create it\n",
    "output_folder = '../../data/bids_example'\n",
    "if not os.path.exists(output_folder):\n",
    "    os.mkdir(output_folder)\n",
    "\n",
    "# write the contents of the data to the zip file in the target folder\n",
    "output_zip = os.path.join(output_folder, 'bids_example.zip')\n",
    "open(output_zip, 'wb').write(data.content)\n",
    "\n",
    "# unzip the file\n",
    "zip_ref = zipfile.ZipFile(output_zip, 'r')\n",
    "zip_ref.extractall(output_folder)\n",
    "zip_ref.close()"
   ]
  },
  {
   "cell_type": "markdown",
   "metadata": {},
   "source": [
    "### Conversion Methods\n",
    "\n",
    "- [heudiconv](https://github.com/nipy/heudiconv)\n",
    "- [Dcm2Bids](https://github.com/cbedetti/Dcm2Bids)\n",
    "- [bidskit](https://github.com/jmtyszka/bidskit)\n",
    "- [dac2bids](https://github.com/dangom/dac2bids)\n",
    "- [BIDScoin](https://github.com/Donders-Institute/bidscoin)\n",
    "- and more!"
   ]
  },
  {
   "cell_type": "markdown",
   "metadata": {},
   "source": [
    "### BIDS Validator\n",
    "\n",
    "Can be run [online](https://bids-standard.github.io/bids-validator)\n",
    "\n",
    "> Selecting a dataset only performs validation. Files are never uploaded.\n",
    "\n",
    "Select the data directory and wait for it to finish validation.\n",
    "\n",
    "View errors and warnings."
   ]
  },
  {
   "cell_type": "markdown",
   "metadata": {},
   "source": [
    "### BIDS Apps\n",
    "\n",
    "BIDS Apps are containerized applications that run on BIDS data structures.  \n",
    "\n",
    "Some examples include:\n",
    "- freesurfer\n",
    "- fmriprep\n",
    "- mriqc\n",
    "- ciftify\n",
    "- SPM\n",
    "- MRtrix3_connectome\n",
    "\n",
    "They rely on 2 technologies for container computing:\n",
    "- Docker\n",
    "  - for building, hosting, and running containers on local hardware (Windows, Mac OS, Linux) or in the cloud\n",
    "- Singularity\n",
    "  - for running containers on high performance compute clusters"
   ]
  },
  {
   "cell_type": "code",
   "execution_count": null,
   "metadata": {},
   "outputs": [],
   "source": []
  }
 ],
 "metadata": {
  "file_extension": ".py",
  "kernelspec": {
   "display_name": "Python 3",
   "language": "python",
   "name": "python3"
  },
  "language_info": {
   "codemirror_mode": {
    "name": "ipython",
    "version": 3
   },
   "file_extension": ".py",
   "mimetype": "text/x-python",
   "name": "python",
   "nbconvert_exporter": "python",
   "pygments_lexer": "ipython3",
   "version": "3.7.4"
  },
  "mimetype": "text/x-python",
  "name": "python",
  "npconvert_exporter": "python",
  "pygments_lexer": "ipython3",
  "version": 3
 },
 "nbformat": 4,
 "nbformat_minor": 4
}
