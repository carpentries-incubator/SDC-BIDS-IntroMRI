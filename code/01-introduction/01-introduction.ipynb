{
 "cells": [
  {
   "cell_type": "markdown",
   "metadata": {},
   "source": [
    "## Welcome to the Intro to MRI and BIDS Workshop!\n",
    "\n",
    "### Outline\n",
    "- Welcome statement \n",
    "- What we'll cover\n",
    "- Goals of the workshop\n",
    "\n",
    "Welcome to our Intro to MRI and BIDS workshop. In this workshop, we'll cover:\n",
    "- a (re?) introduction to MR nomenclature - with BIDS\n",
    "- \"converting\" your data to BIDS\n",
    "- BIDS apps\n",
    "- queueing up neuroimaging pipelines"
   ]
  },
  {
   "cell_type": "markdown",
   "metadata": {},
   "source": [
    "### Why Python?\n",
    "\n",
    "Python is rapidly becoming the standard language for data analysis, visualization and automated workflow building. It is a free and open-source software that is relatively easy to pick up by new programmers. In addition, with Python packages such as <code>Jupyter</code> one can keep an interactive code journal of analysis - this is what we'll be using in the workshop, and is, in fact, what you are currently using to view this workshop! Using Jupyter notebooks allows you to keep a record of all the steps in your analysis, enabling transparency and ease of code sharing. \n",
    "\n",
    "Another advantage of Python is that it is maintained by a large user-base. Anyone can easily make their own Python packages for others to use. Therefore, there exists a *very* large codebase for you to take advantage of for your neuroimaging analysis; from basic statistical analysis and visualization tools to advanced machine learning and multivariate methods!\n",
    "\n",
    "We'll begin with a basic overview of MR data and then move into how we can work with MR data in Python:"
   ]
  },
  {
   "cell_type": "code",
   "execution_count": null,
   "metadata": {},
   "outputs": [],
   "source": []
  }
 ],
 "metadata": {
  "kernelspec": {
   "display_name": "carpentry_venv",
   "language": "python",
   "name": "carpentry_venv"
  },
  "language_info": {
   "codemirror_mode": {
    "name": "ipython",
    "version": 3
   },
   "file_extension": ".py",
   "mimetype": "text/x-python",
   "name": "python",
   "nbconvert_exporter": "python",
   "pygments_lexer": "ipython3",
   "version": "3.7.3"
  }
 },
 "nbformat": 4,
 "nbformat_minor": 4
}
