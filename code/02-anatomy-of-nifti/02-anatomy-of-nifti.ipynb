{
 "cells": [
  {
   "cell_type": "markdown",
   "metadata": {},
   "source": [
    "# Anatomy of a NIfTI\n",
    "\n",
    "---\n",
    "#### Objectives\n",
    "1. Introduce Python data types\n",
    "1. Load a NIfTI file into Python and understand how data is stored\n",
    "1. View and manipulate image data\n",
    "---"
   ]
  },
  {
   "cell_type": "markdown",
   "metadata": {},
   "source": [
    "In the last lesson, we introduced the NIfTI. NIfTI is one of the most ubiquitous file formats for storing neuroimaging data. We'll cover a few details to get started working with them. If you're interested in learning more about NIfTI images, we highly recommend [this blog post about the NIfTI format](http://brainder.org/2012/09/23/the-nifti-file-format/)."
   ]
  },
  {
   "cell_type": "markdown",
   "metadata": {},
   "source": [
    "## Reading NIfTI Images\n",
    "\n",
    "[NiBabel](http://nipy.org/nibabel/) is a Python package for reading and writing neuroimaging data. To learn more about how NiBabel handles NIfTIs, check out the [Working with NIfTI images](http://nipy.org/nibabel/nifti_images.html) page of the NiBabel documentation."
   ]
  },
  {
   "cell_type": "code",
   "execution_count": 1,
   "metadata": {},
   "outputs": [],
   "source": [
    "import nibabel as nib"
   ]
  },
  {
   "cell_type": "markdown",
   "metadata": {},
   "source": [
    "First, use the `load()` function to create a NiBabel image object from a NIfTI file. We'll load in an example T1w image from the zip file we just downloaded."
   ]
  },
  {
   "cell_type": "code",
   "execution_count": 2,
   "metadata": {},
   "outputs": [],
   "source": [
    "t1_img = nib.load('someones_anatomy.nii.gz')"
   ]
  },
  {
   "cell_type": "markdown",
   "metadata": {},
   "source": [
    "Loading in a NIfTI file with `nibabel` gives us a special type of data object which encodes all the information in the file. Each bit of information is called an **attribute** in Python's terminology. To see all of these attributes, type `t1_img.` and <kbd>Tab</kbd>.  \n",
    "There are three main attributes that we'll discuss today:"
   ]
  },
  {
   "cell_type": "markdown",
   "metadata": {},
   "source": [
    "### 1. [Header](http://nipy.org/nibabel/nibabel_images.html#the-image-header): contains metadata about the image, such as image dimensions, data type, etc."
   ]
  },
  {
   "cell_type": "code",
   "execution_count": 3,
   "metadata": {},
   "outputs": [
    {
     "name": "stdout",
     "output_type": "stream",
     "text": [
      "<class 'nibabel.nifti1.Nifti1Header'> object, endian='<'\n",
      "sizeof_hdr      : 348\n",
      "data_type       : b''\n",
      "db_name         : b''\n",
      "extents         : 0\n",
      "session_error   : 0\n",
      "regular         : b''\n",
      "dim_info        : 0\n",
      "dim             : [ 3 57 67 56  1  1  1  1]\n",
      "intent_p1       : 0.0\n",
      "intent_p2       : 0.0\n",
      "intent_p3       : 0.0\n",
      "intent_code     : none\n",
      "datatype        : uint8\n",
      "bitpix          : 8\n",
      "slice_start     : 0\n",
      "pixdim          : [1.   2.75 2.75 2.75 1.   1.   1.   1.  ]\n",
      "vox_offset      : 0.0\n",
      "scl_slope       : nan\n",
      "scl_inter       : nan\n",
      "slice_end       : 0\n",
      "slice_code      : unknown\n",
      "xyzt_units      : 2\n",
      "cal_max         : 0.0\n",
      "cal_min         : 0.0\n",
      "slice_duration  : 0.0\n",
      "toffset         : 0.0\n",
      "glmax           : 0\n",
      "glmin           : 0\n",
      "descrip         : b''\n",
      "aux_file        : b''\n",
      "qform_code      : mni\n",
      "sform_code      : mni\n",
      "quatern_b       : 0.0\n",
      "quatern_c       : 0.0\n",
      "quatern_d       : 0.0\n",
      "qoffset_x       : -78.0\n",
      "qoffset_y       : -91.0\n",
      "qoffset_z       : -91.0\n",
      "srow_x          : [  2.75   0.     0.   -78.  ]\n",
      "srow_y          : [  0.     2.75   0.   -91.  ]\n",
      "srow_z          : [  0.     0.     2.75 -91.  ]\n",
      "intent_name     : b''\n",
      "magic           : b'n+1'\n"
     ]
    }
   ],
   "source": [
    "t1_hdr = t1_img.header\n",
    "print(t1_hdr)"
   ]
  },
  {
   "cell_type": "markdown",
   "metadata": {},
   "source": [
    "`t1_hdr` is a Python **dictionary**. Dictionaries are containers that hold pairs of objects - keys and values. Let's take a look at all of the keys.\n",
    "Similar to `t1_img` in which attributes can be accessed by typing `t1_img.` and hitting <kbd>Tab</kbd>, you can do the same with `t1_hdr`. In particular, we'll be using a **method** belonging to `t1_hdr` that will allow you to view the keys associated with it."
   ]
  },
  {
   "cell_type": "code",
   "execution_count": 4,
   "metadata": {},
   "outputs": [
    {
     "data": {
      "text/plain": [
       "['sizeof_hdr',\n",
       " 'data_type',\n",
       " 'db_name',\n",
       " 'extents',\n",
       " 'session_error',\n",
       " 'regular',\n",
       " 'dim_info',\n",
       " 'dim',\n",
       " 'intent_p1',\n",
       " 'intent_p2',\n",
       " 'intent_p3',\n",
       " 'intent_code',\n",
       " 'datatype',\n",
       " 'bitpix',\n",
       " 'slice_start',\n",
       " 'pixdim',\n",
       " 'vox_offset',\n",
       " 'scl_slope',\n",
       " 'scl_inter',\n",
       " 'slice_end',\n",
       " 'slice_code',\n",
       " 'xyzt_units',\n",
       " 'cal_max',\n",
       " 'cal_min',\n",
       " 'slice_duration',\n",
       " 'toffset',\n",
       " 'glmax',\n",
       " 'glmin',\n",
       " 'descrip',\n",
       " 'aux_file',\n",
       " 'qform_code',\n",
       " 'sform_code',\n",
       " 'quatern_b',\n",
       " 'quatern_c',\n",
       " 'quatern_d',\n",
       " 'qoffset_x',\n",
       " 'qoffset_y',\n",
       " 'qoffset_z',\n",
       " 'srow_x',\n",
       " 'srow_y',\n",
       " 'srow_z',\n",
       " 'intent_name',\n",
       " 'magic']"
      ]
     },
     "execution_count": 4,
     "metadata": {},
     "output_type": "execute_result"
    }
   ],
   "source": [
    "t1_hdr.keys()"
   ]
  },
  {
   "cell_type": "markdown",
   "metadata": {},
   "source": [
    "Notice that **methods** require you to include `()` at the end of them whereas **attributes** do not.\n",
    "The key difference between a method and an attribute is:\n",
    "- Attributes are *stored values* kept within an object\n",
    "- Methods are *processes* that we can run using the object. Usually a method takes attributes, performs an operation on them, then returns it for you to use.\n",
    "\n",
    "When you type in `t1_img.` followed by <kbd>Tab</kbd>, you'll see that attributes are highlighted in <span style=\"color:orange\"> orange </span> and methods highlighted in <span style=\"color:blue\"> blue </span>."
   ]
  },
  {
   "cell_type": "markdown",
   "metadata": {},
   "source": [
    "The output above is a list of **keys** you can use from `t1_hdr` to access **values**. We can access the value stored by a given key by typing:\n",
    "\n",
    "```python\n",
    "t1_hdr['<key_name>']\n",
    "```"
   ]
  },
  {
   "cell_type": "markdown",
   "metadata": {},
   "source": [
    "<b>EXERCISE:</b> Extract the value of <code>pixdim</code> from <code>t1_hdr</code>"
   ]
  },
  {
   "cell_type": "code",
   "execution_count": 5,
   "metadata": {},
   "outputs": [
    {
     "data": {
      "text/plain": [
       "array([1.  , 2.75, 2.75, 2.75, 1.  , 1.  , 1.  , 1.  ], dtype=float32)"
      ]
     },
     "execution_count": 5,
     "metadata": {},
     "output_type": "execute_result"
    }
   ],
   "source": [
    "t1_hdr['pixdim']"
   ]
  },
  {
   "cell_type": "markdown",
   "metadata": {},
   "source": [
    "### 2. Data\n",
    "As you've seen above, the header contains useful information that gives us information about the properties (metadata) associated with the MR data we've loaded in. Now we'll move in to loading the actual *image data itself*. We can achieve this by using the *method* called `t1_img.get_fdata()`."
   ]
  },
  {
   "cell_type": "code",
   "execution_count": 6,
   "metadata": {},
   "outputs": [
    {
     "data": {
      "text/plain": [
       "array([[[ 8.79311806,  8.79311806,  8.79311806, ...,  7.73574093,\n",
       "          7.73574093,  7.38328189],\n",
       "        [ 8.79311806,  9.1455771 ,  8.79311806, ...,  8.08819997,\n",
       "          8.08819997,  8.08819997],\n",
       "        [ 9.1455771 ,  8.79311806,  8.79311806, ...,  8.44065902,\n",
       "          8.44065902,  8.44065902],\n",
       "        ...,\n",
       "        [ 8.08819997,  8.44065902,  8.08819997, ...,  7.38328189,\n",
       "          7.38328189,  7.38328189],\n",
       "        [ 8.08819997,  8.08819997,  8.08819997, ...,  7.73574093,\n",
       "          7.38328189,  7.38328189],\n",
       "        [ 8.08819997,  8.08819997,  8.08819997, ...,  7.38328189,\n",
       "          7.38328189,  7.03082284]],\n",
       "\n",
       "       [[ 8.79311806,  9.1455771 ,  8.79311806, ...,  7.73574093,\n",
       "          7.38328189,  7.38328189],\n",
       "        [ 8.79311806,  9.1455771 ,  9.1455771 , ...,  8.08819997,\n",
       "          7.73574093,  8.08819997],\n",
       "        [ 8.79311806,  9.49803615,  9.1455771 , ...,  8.44065902,\n",
       "          8.44065902,  8.44065902],\n",
       "        ...,\n",
       "        [ 8.08819997,  8.08819997,  8.08819997, ...,  7.38328189,\n",
       "          7.38328189,  7.03082284],\n",
       "        [ 8.08819997,  8.08819997,  8.08819997, ...,  7.38328189,\n",
       "          7.38328189,  7.38328189],\n",
       "        [ 8.08819997,  8.08819997,  8.08819997, ...,  7.38328189,\n",
       "          7.38328189,  7.73574093]],\n",
       "\n",
       "       [[ 9.1455771 ,  9.1455771 ,  8.79311806, ...,  7.73574093,\n",
       "          7.38328189,  7.03082284],\n",
       "        [ 9.1455771 ,  9.49803615,  9.1455771 , ...,  8.08819997,\n",
       "          7.73574093,  7.38328189],\n",
       "        [ 9.1455771 ,  9.49803615,  9.1455771 , ...,  8.08819997,\n",
       "          8.08819997,  8.08819997],\n",
       "        ...,\n",
       "        [ 8.08819997,  8.44065902,  8.44065902, ...,  7.73574093,\n",
       "          7.38328189,  7.38328189],\n",
       "        [ 8.44065902,  8.08819997,  8.44065902, ...,  7.38328189,\n",
       "          7.38328189,  7.38328189],\n",
       "        [ 8.08819997,  8.08819997,  8.08819997, ...,  7.38328189,\n",
       "          7.38328189,  7.38328189]],\n",
       "\n",
       "       ...,\n",
       "\n",
       "       [[ 9.49803615,  9.85049519,  9.85049519, ...,  7.38328189,\n",
       "          7.38328189,  7.03082284],\n",
       "        [ 9.85049519,  9.85049519,  9.85049519, ...,  7.38328189,\n",
       "          7.38328189,  7.73574093],\n",
       "        [ 9.85049519,  9.85049519, 10.20295423, ...,  8.08819997,\n",
       "          8.08819997,  8.08819997],\n",
       "        ...,\n",
       "        [ 9.49803615,  9.1455771 ,  9.49803615, ...,  7.73574093,\n",
       "          7.73574093,  7.73574093],\n",
       "        [ 9.49803615,  9.49803615,  9.1455771 , ...,  7.73574093,\n",
       "          8.08819997,  7.73574093],\n",
       "        [ 9.49803615,  9.1455771 ,  8.79311806, ...,  8.08819997,\n",
       "          7.73574093,  7.73574093]],\n",
       "\n",
       "       [[ 9.49803615,  9.85049519, 10.20295423, ...,  7.38328189,\n",
       "          7.38328189,  7.03082284],\n",
       "        [ 9.1455771 ,  9.85049519,  9.1455771 , ...,  7.73574093,\n",
       "          7.38328189,  7.38328189],\n",
       "        [ 9.85049519,  9.85049519,  9.49803615, ...,  8.08819997,\n",
       "          7.73574093,  8.08819997],\n",
       "        ...,\n",
       "        [ 9.49803615,  8.79311806,  9.1455771 , ...,  8.08819997,\n",
       "          7.38328189,  7.73574093],\n",
       "        [ 9.1455771 ,  9.1455771 ,  9.1455771 , ...,  7.73574093,\n",
       "          8.08819997,  7.73574093],\n",
       "        [ 8.79311806,  9.1455771 ,  9.1455771 , ...,  7.73574093,\n",
       "          7.73574093,  7.38328189]],\n",
       "\n",
       "       [[ 9.1455771 ,  8.79311806,  8.79311806, ...,  7.03082284,\n",
       "          7.03082284,  6.6783638 ],\n",
       "        [ 9.49803615,  9.85049519,  9.49803615, ...,  7.73574093,\n",
       "          7.73574093,  7.73574093],\n",
       "        [ 9.49803615,  9.49803615,  9.85049519, ...,  7.73574093,\n",
       "          8.08819997,  7.73574093],\n",
       "        ...,\n",
       "        [ 8.79311806,  9.1455771 ,  9.1455771 , ...,  8.08819997,\n",
       "          8.08819997,  8.08819997],\n",
       "        [ 9.1455771 ,  9.1455771 ,  9.1455771 , ...,  8.08819997,\n",
       "          8.08819997,  7.73574093],\n",
       "        [ 8.79311806,  9.1455771 ,  9.1455771 , ...,  8.08819997,\n",
       "          7.73574093,  7.73574093]]])"
      ]
     },
     "execution_count": 6,
     "metadata": {},
     "output_type": "execute_result"
    }
   ],
   "source": [
    "t1_data = t1_img.get_fdata()\n",
    "t1_data"
   ]
  },
  {
   "cell_type": "markdown",
   "metadata": {},
   "source": [
    "What type of data is this exactly? We can determine this by calling the `type()` function on `t1_data`."
   ]
  },
  {
   "cell_type": "code",
   "execution_count": 7,
   "metadata": {},
   "outputs": [
    {
     "data": {
      "text/plain": [
       "numpy.ndarray"
      ]
     },
     "execution_count": 7,
     "metadata": {},
     "output_type": "execute_result"
    }
   ],
   "source": [
    "type(t1_data)"
   ]
  },
  {
   "cell_type": "markdown",
   "metadata": {},
   "source": [
    "The data is a multidimensional **array** representing the image data. In Python, an array is used to store lists of numerical data into something like a table."
   ]
  },
  {
   "cell_type": "markdown",
   "metadata": {},
   "source": [
    "<b>EXERCISE:</b> Let's check out some *attributes* of the array. How can we see the number of dimensions in the <code>t1_data</code> array? What about the how big each dimension is (shape)? Once again, all of the attributes of the array can be seen by typing `t1_data.` and <kbd>Tab</kbd>."
   ]
  },
  {
   "cell_type": "code",
   "execution_count": 8,
   "metadata": {},
   "outputs": [
    {
     "data": {
      "text/plain": [
       "3"
      ]
     },
     "execution_count": 8,
     "metadata": {},
     "output_type": "execute_result"
    }
   ],
   "source": [
    "t1_data.ndim"
   ]
  },
  {
   "cell_type": "markdown",
   "metadata": {},
   "source": [
    "`t1_data` contains 3 dimensions. You can think of the data as a 3D version of a picture (more accurately, a volume).\n",
    "\n",
    "<img src=\"numpy_arrays.png\" alt=\"Drawing\" align=\"middle\" width=\"600px\"/>\n",
    "\n",
    "While typical 2D pictures are made out of squares called **pixels**, a 3D MR image is made up of 3D cubes called **voxels**.\n",
    "\n",
    "<img src=\"http://www.sprawls.org/mripmt/MRI10/MR10-2.jpg\" alt=\"Drawing\" align=\"middle\" width=\"500px\"/>"
   ]
  },
  {
   "cell_type": "code",
   "execution_count": 9,
   "metadata": {},
   "outputs": [
    {
     "data": {
      "text/plain": [
       "(57, 67, 56)"
      ]
     },
     "execution_count": 9,
     "metadata": {},
     "output_type": "execute_result"
    }
   ],
   "source": [
    "t1_data.shape"
   ]
  },
  {
   "cell_type": "markdown",
   "metadata": {},
   "source": [
    "The 3 numbers given here represent the number of values *along a respective dimension (x,y,z)*. This brain was scanned in 57 slices with a resolution of 67 x 56 voxels per slice. That means there are:\n",
    "\n",
    "$$x * y * z = value$$\n",
    "$$ 57 * 67 * 56 = 213864$$ voxels in total!"
   ]
  },
  {
   "cell_type": "markdown",
   "metadata": {},
   "source": [
    "Let's see the type of data inside of the array."
   ]
  },
  {
   "cell_type": "code",
   "execution_count": 10,
   "metadata": {},
   "outputs": [
    {
     "data": {
      "text/plain": [
       "dtype('float64')"
      ]
     },
     "execution_count": 10,
     "metadata": {},
     "output_type": "execute_result"
    }
   ],
   "source": [
    "t1_data.dtype"
   ]
  },
  {
   "cell_type": "markdown",
   "metadata": {},
   "source": [
    "This tells us that each element in the array (or voxel) is a floating-point number.   \n",
    "The data type of an image controls the range of possible intensities. As the number of possible values increases, the amount of space the image takes up in memory also increases."
   ]
  },
  {
   "cell_type": "code",
   "execution_count": 11,
   "metadata": {},
   "outputs": [
    {
     "name": "stdout",
     "output_type": "stream",
     "text": [
      "6.678363800048828\n",
      "96.55541983246803\n"
     ]
    }
   ],
   "source": [
    "import numpy as np\n",
    "\n",
    "print(np.min(t1_data))\n",
    "print(np.max(t1_data))"
   ]
  },
  {
   "cell_type": "markdown",
   "metadata": {},
   "source": [
    "For our data, the range of intensity values goes from 0 (black) to more positive digits (whiter)."
   ]
  },
  {
   "cell_type": "markdown",
   "metadata": {},
   "source": [
    "How do we examine what value a particular voxel is? We can inspect the value of a voxel by selecting an **index** as follows:\n",
    "\n",
    "~~~python\n",
    "data[x,y,z]\n",
    "~~~"
   ]
  },
  {
   "cell_type": "markdown",
   "metadata": {},
   "source": [
    "So for example we can inspect a voxel at coordinates (10,20,3) by doing the following:"
   ]
  },
  {
   "cell_type": "code",
   "execution_count": 12,
   "metadata": {},
   "outputs": [
    {
     "data": {
      "text/plain": [
       "32.40787395834923"
      ]
     },
     "execution_count": 12,
     "metadata": {},
     "output_type": "execute_result"
    }
   ],
   "source": [
    "t1_data[9, 19, 2]"
   ]
  },
  {
   "cell_type": "markdown",
   "metadata": {},
   "source": [
    "**NOTE**: Python uses **zero-based indexing**. The first item in the array is item 0. The second item is item 1, the third is item 2, etc.\n",
    "\n",
    "This yields a single value representing the intensity of the signal at a particular voxel! Next we'll see how to not just pull one voxel but a slice or an *array* of voxels for visualization and analysis!"
   ]
  },
  {
   "cell_type": "markdown",
   "metadata": {},
   "source": [
    "## Working With Image Data\n",
    "\n",
    "Slicing does exactly what it seems to imply. Giving our 3D volume, we pull out a 2D slice of our data. Here's an example of slicing from left to right (**sagittal slicing**):\n",
    "\n",
    "<img src=\"https://upload.wikimedia.org/wikipedia/commons/5/56/Parasagittal_MRI_of_human_head_in_patient_with_benign_familial_macrocephaly_prior_to_brain_injury_%28ANIMATED%29.gif\"/>\n",
    "\n",
    "This gif is a series of 2D images or **slices** moving from left to right."
   ]
  },
  {
   "cell_type": "markdown",
   "metadata": {},
   "source": [
    "Let's pull the 10th slice in the x axis."
   ]
  },
  {
   "cell_type": "code",
   "execution_count": 13,
   "metadata": {},
   "outputs": [],
   "source": [
    "x_slice = t1_data[9, :, :]"
   ]
  },
  {
   "cell_type": "markdown",
   "metadata": {},
   "source": [
    "This is similar to the indexing we did before to pull out a single voxel. However, instead of providing a value for each axis, the `:` indicates that we want to grab *all* values from that particular axis."
   ]
  },
  {
   "cell_type": "markdown",
   "metadata": {},
   "source": [
    "<b>EXERCISE:</b> Now try selecting the 20th slice from the y axis."
   ]
  },
  {
   "cell_type": "code",
   "execution_count": 14,
   "metadata": {},
   "outputs": [],
   "source": [
    "y_slice = t1_data[:, 19, :]"
   ]
  },
  {
   "cell_type": "markdown",
   "metadata": {},
   "source": [
    "Finally try grabbing the 3rd slice from the z axis."
   ]
  },
  {
   "cell_type": "code",
   "execution_count": 15,
   "metadata": {},
   "outputs": [],
   "source": [
    "z_slice = t1_data[:, :, 2]"
   ]
  },
  {
   "cell_type": "markdown",
   "metadata": {},
   "source": [
    "We've been slicing and dicing brain images but we have no idea what they look like! In the next section we'll show you how you can visualize brain slices!"
   ]
  },
  {
   "cell_type": "markdown",
   "metadata": {},
   "source": [
    "## Visualizing\n",
    "\n",
    "We previously inspected the signal intensity of the voxel at coordinate 10, 20, 3. Let's see what out data looks like when we slice it at this location. We've already indexed the data at each x, y, and z axis. Let's use `matplotlib`."
   ]
  },
  {
   "cell_type": "code",
   "execution_count": 16,
   "metadata": {},
   "outputs": [
    {
     "data": {
      "image/png": "[encoded data removed]",
      "text/plain": [
       "<Figure size 432x288 with 3 Axes>"
      ]
     },
     "metadata": {
      "needs_background": "light"
     },
     "output_type": "display_data"
    }
   ],
   "source": [
    "import matplotlib.pyplot as plt\n",
    "%matplotlib inline\n",
    "\n",
    "slices = [x_slice, y_slice, z_slice]\n",
    "\n",
    "fig, axes = plt.subplots(1, len(slices))\n",
    "for i, slice in enumerate(slices):\n",
    "    axes[i].imshow(slice.T, cmap=\"gray\", origin=\"lower\")"
   ]
  },
  {
   "cell_type": "markdown",
   "metadata": {},
   "source": [
    "Now, we're going to step away from discussing our data and talk about the final important attribute of a NIfTI.\n",
    "\n",
    "### 3. [Affine](http://nipy.org/nibabel/coordinate_systems.html): tells the position of the image array data in a *reference space*\n",
    "\n",
    "The final important piece of metadata associated with an image file is the **affine matrix**. Below is the affine matrix for our data."
   ]
  },
  {
   "cell_type": "code",
   "execution_count": 17,
   "metadata": {},
   "outputs": [
    {
     "data": {
      "text/plain": [
       "array([[  2.75,   0.  ,   0.  , -78.  ],\n",
       "       [  0.  ,   2.75,   0.  , -91.  ],\n",
       "       [  0.  ,   0.  ,   2.75, -91.  ],\n",
       "       [  0.  ,   0.  ,   0.  ,   1.  ]])"
      ]
     },
     "execution_count": 17,
     "metadata": {},
     "output_type": "execute_result"
    }
   ],
   "source": [
    "t1_affine = t1_img.affine\n",
    "t1_affine"
   ]
  },
  {
   "cell_type": "markdown",
   "metadata": {},
   "source": [
    "To explain this concept, recall that we referred to coordinates in our data as (x,y,z) coordinates such that:\n",
    "\n",
    "- x is the first dimension of `t1_data`\n",
    "- y is the second dimension of `t1_data`\n",
    "- z is the third dimension of `t1_data`\n",
    "\n",
    "Although this tells us how to access our data in terms of voxels in a 3D volume, it doesn't tell us much about the actual dimensions in our data (centimetres, right or left, up or down, back or front). The affine matrix allows us to translate between *voxel coordinates (x,y,z)* and *world space coordinates* in (left/right,bottom/top,back/front). An important thing to note is that in reality in which order you have:\n",
    "\n",
    "- left/right\n",
    "- bottom/top\n",
    "- back/front\n",
    "\n",
    "Depends on how you've constructed the affine matrix, but for the data we're dealing with it always refers to:\n",
    "\n",
    "- Right\n",
    "- Anterior\n",
    "- Superior\n",
    "\n",
    "Applying the affine matrix (`t1_affine`) is done through using a *linear map* (matrix multiplication) on voxel coordinates (defined in `t1_data`). \n",
    "\n",
    "<img src=\"coordinate_systems.png\" alt=\"Drawing\" align=\"middle\" width=\"300px\"/>\n",
    "\n",
    "The concept of an affine matrix may seem confusing at first but an example might help gain an intuition:\n",
    "\n",
    "Suppose we have two voxels located at the the following coordinates:\n",
    "\n",
    "$$(15,2,90)$$\n",
    "$$(64,100,2)$$\n",
    "\n",
    "And we wanted to know what the distances between these two voxels are in terms of real world distances (millimetres). This information cannot be derived from using voxel coordinates so we turn to the **affine matrix**. \n",
    "\n",
    "Now, the affine matrix we'll be using happens to be encoded in **RAS**. That means once we apply the matrix our coordinates are as follows:\n",
    "\n",
    "$$(\\text{Right},\\text{Anterior},\\text{Superior})$$\n",
    "\n",
    "So increasing a coordinate value in the first dimension corresponds to moving to the right of the person being scanned. \n",
    "\n",
    "Applying our affine matrix yields the following coordinates:\n",
    "\n",
    "$$(90.23,0.2,2.15)$$\n",
    "$$(10.25,30.5,9.2)$$\n",
    "\n",
    "This means that:\n",
    "\n",
    "- Voxel 1 is $90.23-10.25= 79.98$ in the R axis. Positive values mean move right\n",
    "- Voxel 1 is $0.2-30.5= -30.3$ in the A axis. Negative values mean move posterior\n",
    "- Voxel 1 is $2.15-9.2= -7.05$ in the S axis. Negatve values mean move inferior"
   ]
  },
  {
   "cell_type": "markdown",
   "metadata": {},
   "source": [
    "This covers the basics of how NIfTI data and metadata are stored and organized in the context of Python. In the next segment we'll talk a bit about an increasingly important component of MR data analysis - data organization. This is a key component to reproducible analysis and so we'll spend a bit of time here. "
   ]
  },
  {
   "cell_type": "markdown",
   "metadata": {},
   "source": [
    "---\n",
    "\n",
    "#### References"
   ]
  },
  {
   "cell_type": "code",
   "execution_count": null,
   "metadata": {},
   "outputs": [],
   "source": []
  }
 ],
 "metadata": {
  "kernelspec": {
   "display_name": "carpentry_venv",
   "language": "python",
   "name": "carpentry_venv"
  },
  "language_info": {
   "codemirror_mode": {
    "name": "ipython",
    "version": 3
   },
   "file_extension": ".py",
   "mimetype": "text/x-python",
   "name": "python",
   "nbconvert_exporter": "python",
   "pygments_lexer": "ipython3",
   "version": "3.7.3"
  }
 },
 "nbformat": 4,
 "nbformat_minor": 4
}
